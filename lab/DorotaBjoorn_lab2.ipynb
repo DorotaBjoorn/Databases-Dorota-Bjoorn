{
 "cells": [
  {
   "attachments": {},
   "cell_type": "markdown",
   "metadata": {},
   "source": [
    "# Lab 2"
   ]
  },
  {
   "cell_type": "code",
   "execution_count": 18,
   "metadata": {},
   "outputs": [],
   "source": [
    "from sqlalchemy import create_engine\n",
    "from sqlalchemy.engine import URL\n",
    "from urllib.parse import unquote\n",
    "from sqlalchemy import text\n",
    "import pandas as pd"
   ]
  },
  {
   "attachments": {},
   "cell_type": "markdown",
   "metadata": {},
   "source": [
    "### Establish connection with database 'books'"
   ]
  },
  {
   "cell_type": "code",
   "execution_count": 19,
   "metadata": {},
   "outputs": [
    {
     "name": "stdout",
     "output_type": "stream",
     "text": [
      "Connecting to database using URL string:\n",
      "mssql+pyodbc://?odbc_connect=DRIVER=ODBC+Driver+17+for+SQL+Server;SERVER=localhost;DATABASE=books;Trusted_Connection=yes \n",
      "\n",
      "Successfully connected to books!\n"
     ]
    }
   ],
   "source": [
    "server_name   = \"localhost\"\n",
    "database_name = \"books\"\n",
    "\n",
    "connection_string = f\"DRIVER=ODBC Driver 17 for SQL Server;SERVER={server_name};DATABASE={database_name};Trusted_Connection=yes\"\n",
    "url_string = URL.create(\"mssql+pyodbc\", query={\"odbc_connect\": connection_string})\n",
    "\n",
    "print('Connecting to database using URL string:')\n",
    "unquoted_url = unquote(str(url_string))\n",
    "print(unquoted_url, '\\n')\n",
    "\n",
    "\n",
    "try:    \n",
    "    engine = create_engine(url_string) # create engine object\n",
    "    with engine.connect() as connection: # NOTE with-statement (Python manager form) connection object (is not used here)\n",
    "        print(f'Successfully connected to {database_name}!')\n",
    "except Exception as e:\n",
    "    print(f'Error while connecting to database {database_name}:\\n')\n",
    "    print(e)"
   ]
  },
  {
   "attachments": {},
   "cell_type": "markdown",
   "metadata": {},
   "source": [
    "### Input from user returning rows with relevant book titles, stock status and shop name"
   ]
  },
  {
   "cell_type": "code",
   "execution_count": 52,
   "metadata": {},
   "outputs": [
    {
     "name": "stdout",
     "output_type": "stream",
     "text": [
      "Search string: white \n",
      "\n",
      "Relevant books:\n",
      "Title: The white elephant; Books in stock: 12, Shop: The Book Heaven\n",
      "Title: Red, white, blue; Books in stock: 6, Shop: The Dusty Bookshelf\n",
      "Title: The white elephant; Books in stock: 6, Shop: The Dusty Bookshelf\n",
      "Title: Red, white, blue; Books in stock: 8, Shop: Twice Sold Tales\n",
      "Title: The white elephant; Books in stock: 6, Shop: Twice Sold Tales\n"
     ]
    }
   ],
   "source": [
    "user_search = input('Enter book title')\n",
    "\n",
    "query = (\"SELECT b.BookTitle, i.BooksInStock, s.ShopName FROM Books b JOIN Inventory i ON b.BookId = i.BookId JOIN Shops s ON i.ShopId = s.ShopId WHERE b.BookTitle LIKE ('%' + :searched_title + '%')\")\n",
    "\n",
    "with engine.connect() as conn:\n",
    "    print(f\"Search string: {user_search} \\n\")\n",
    "    print(f\"Relevant books:\")\n",
    "    result = conn.execute(text(query), {\"searched_title\": user_search})\n",
    "    for row in result:\n",
    "        print(f\"Title: {row.BookTitle}; Books in stock: {row.BooksInStock}, Shop: {row.ShopName}\")"
   ]
  },
  {
   "attachments": {},
   "cell_type": "markdown",
   "metadata": {},
   "source": [
    "### Input from user returning dataframe with relevant book titles, stock status and shop name"
   ]
  },
  {
   "cell_type": "code",
   "execution_count": 53,
   "metadata": {},
   "outputs": [
    {
     "name": "stdout",
     "output_type": "stream",
     "text": [
      "Search string: white \n",
      "\n"
     ]
    },
    {
     "data": {
      "text/html": [
       "<div>\n",
       "<style scoped>\n",
       "    .dataframe tbody tr th:only-of-type {\n",
       "        vertical-align: middle;\n",
       "    }\n",
       "\n",
       "    .dataframe tbody tr th {\n",
       "        vertical-align: top;\n",
       "    }\n",
       "\n",
       "    .dataframe thead th {\n",
       "        text-align: right;\n",
       "    }\n",
       "</style>\n",
       "<table border=\"1\" class=\"dataframe\">\n",
       "  <thead>\n",
       "    <tr style=\"text-align: right;\">\n",
       "      <th></th>\n",
       "      <th>BookTitle</th>\n",
       "      <th>BooksInStock</th>\n",
       "      <th>ShopName</th>\n",
       "    </tr>\n",
       "  </thead>\n",
       "  <tbody>\n",
       "    <tr>\n",
       "      <th>0</th>\n",
       "      <td>The white elephant</td>\n",
       "      <td>12</td>\n",
       "      <td>The Book Heaven</td>\n",
       "    </tr>\n",
       "    <tr>\n",
       "      <th>1</th>\n",
       "      <td>Red, white, blue</td>\n",
       "      <td>6</td>\n",
       "      <td>The Dusty Bookshelf</td>\n",
       "    </tr>\n",
       "    <tr>\n",
       "      <th>2</th>\n",
       "      <td>The white elephant</td>\n",
       "      <td>6</td>\n",
       "      <td>The Dusty Bookshelf</td>\n",
       "    </tr>\n",
       "    <tr>\n",
       "      <th>3</th>\n",
       "      <td>Red, white, blue</td>\n",
       "      <td>8</td>\n",
       "      <td>Twice Sold Tales</td>\n",
       "    </tr>\n",
       "    <tr>\n",
       "      <th>4</th>\n",
       "      <td>The white elephant</td>\n",
       "      <td>6</td>\n",
       "      <td>Twice Sold Tales</td>\n",
       "    </tr>\n",
       "  </tbody>\n",
       "</table>\n",
       "</div>"
      ],
      "text/plain": [
       "            BookTitle  BooksInStock             ShopName\n",
       "0  The white elephant            12      The Book Heaven\n",
       "1    Red, white, blue             6  The Dusty Bookshelf\n",
       "2  The white elephant             6  The Dusty Bookshelf\n",
       "3    Red, white, blue             8     Twice Sold Tales\n",
       "4  The white elephant             6     Twice Sold Tales"
      ]
     },
     "execution_count": 53,
     "metadata": {},
     "output_type": "execute_result"
    }
   ],
   "source": [
    "user_search = input('Enter book title')\n",
    "\n",
    "query = (\"SELECT b.BookTitle, i.BooksInStock, s.ShopName FROM Books b JOIN Inventory i ON b.BookId = i.BookId JOIN Shops s ON i.ShopId = s.ShopId WHERE b.BookTitle LIKE ('%' + :searched_title + '%')\")\n",
    "\n",
    "print(f\"Search string: {user_search} \\n\")\n",
    "df = pd.read_sql_query(text(query), params={\"searched_title\": user_search}, con=engine)\n",
    "df"
   ]
  },
  {
   "attachments": {},
   "cell_type": "markdown",
   "metadata": {},
   "source": [
    "---\n",
    "---\n",
    "### Basic query returning all rows"
   ]
  },
  {
   "cell_type": "code",
   "execution_count": 22,
   "metadata": {},
   "outputs": [
    {
     "data": {
      "text/html": [
       "<div>\n",
       "<style scoped>\n",
       "    .dataframe tbody tr th:only-of-type {\n",
       "        vertical-align: middle;\n",
       "    }\n",
       "\n",
       "    .dataframe tbody tr th {\n",
       "        vertical-align: top;\n",
       "    }\n",
       "\n",
       "    .dataframe thead th {\n",
       "        text-align: right;\n",
       "    }\n",
       "</style>\n",
       "<table border=\"1\" class=\"dataframe\">\n",
       "  <thead>\n",
       "    <tr style=\"text-align: right;\">\n",
       "      <th></th>\n",
       "      <th>BookTitle</th>\n",
       "      <th>BooksInStock</th>\n",
       "      <th>ShopName</th>\n",
       "    </tr>\n",
       "  </thead>\n",
       "  <tbody>\n",
       "    <tr>\n",
       "      <th>0</th>\n",
       "      <td>What things?</td>\n",
       "      <td>32</td>\n",
       "      <td>The Book Heaven</td>\n",
       "    </tr>\n",
       "    <tr>\n",
       "      <th>1</th>\n",
       "      <td>Allt om yrsel</td>\n",
       "      <td>4</td>\n",
       "      <td>The Book Heaven</td>\n",
       "    </tr>\n",
       "    <tr>\n",
       "      <th>2</th>\n",
       "      <td>Too many reasons why</td>\n",
       "      <td>17</td>\n",
       "      <td>The Book Heaven</td>\n",
       "    </tr>\n",
       "    <tr>\n",
       "      <th>3</th>\n",
       "      <td>The white elephant</td>\n",
       "      <td>12</td>\n",
       "      <td>The Book Heaven</td>\n",
       "    </tr>\n",
       "    <tr>\n",
       "      <th>4</th>\n",
       "      <td>Things we hide</td>\n",
       "      <td>257</td>\n",
       "      <td>The Book Heaven</td>\n",
       "    </tr>\n",
       "    <tr>\n",
       "      <th>5</th>\n",
       "      <td>Things we find</td>\n",
       "      <td>7</td>\n",
       "      <td>The Book Heaven</td>\n",
       "    </tr>\n",
       "    <tr>\n",
       "      <th>6</th>\n",
       "      <td>100 reasons why</td>\n",
       "      <td>3</td>\n",
       "      <td>The Book Heaven</td>\n",
       "    </tr>\n",
       "    <tr>\n",
       "      <th>7</th>\n",
       "      <td>Red, white, blue</td>\n",
       "      <td>6</td>\n",
       "      <td>The Dusty Bookshelf</td>\n",
       "    </tr>\n",
       "    <tr>\n",
       "      <th>8</th>\n",
       "      <td>What things?</td>\n",
       "      <td>8</td>\n",
       "      <td>The Dusty Bookshelf</td>\n",
       "    </tr>\n",
       "    <tr>\n",
       "      <th>9</th>\n",
       "      <td>Allt om yrsel</td>\n",
       "      <td>6</td>\n",
       "      <td>The Dusty Bookshelf</td>\n",
       "    </tr>\n",
       "    <tr>\n",
       "      <th>10</th>\n",
       "      <td>Too many reasons why</td>\n",
       "      <td>25</td>\n",
       "      <td>The Dusty Bookshelf</td>\n",
       "    </tr>\n",
       "    <tr>\n",
       "      <th>11</th>\n",
       "      <td>The white elephant</td>\n",
       "      <td>6</td>\n",
       "      <td>The Dusty Bookshelf</td>\n",
       "    </tr>\n",
       "    <tr>\n",
       "      <th>12</th>\n",
       "      <td>Bajki</td>\n",
       "      <td>4</td>\n",
       "      <td>The Dusty Bookshelf</td>\n",
       "    </tr>\n",
       "    <tr>\n",
       "      <th>13</th>\n",
       "      <td>Things we hide</td>\n",
       "      <td>22</td>\n",
       "      <td>The Dusty Bookshelf</td>\n",
       "    </tr>\n",
       "    <tr>\n",
       "      <th>14</th>\n",
       "      <td>Red, white, blue</td>\n",
       "      <td>8</td>\n",
       "      <td>Twice Sold Tales</td>\n",
       "    </tr>\n",
       "    <tr>\n",
       "      <th>15</th>\n",
       "      <td>What things?</td>\n",
       "      <td>65</td>\n",
       "      <td>Twice Sold Tales</td>\n",
       "    </tr>\n",
       "    <tr>\n",
       "      <th>16</th>\n",
       "      <td>Too many reasons why</td>\n",
       "      <td>7</td>\n",
       "      <td>Twice Sold Tales</td>\n",
       "    </tr>\n",
       "    <tr>\n",
       "      <th>17</th>\n",
       "      <td>The white elephant</td>\n",
       "      <td>6</td>\n",
       "      <td>Twice Sold Tales</td>\n",
       "    </tr>\n",
       "    <tr>\n",
       "      <th>18</th>\n",
       "      <td>Things we find</td>\n",
       "      <td>5</td>\n",
       "      <td>Twice Sold Tales</td>\n",
       "    </tr>\n",
       "    <tr>\n",
       "      <th>19</th>\n",
       "      <td>The invisible life of Mr Gray</td>\n",
       "      <td>0</td>\n",
       "      <td>Twice Sold Tales</td>\n",
       "    </tr>\n",
       "  </tbody>\n",
       "</table>\n",
       "</div>"
      ],
      "text/plain": [
       "                        BookTitle  BooksInStock             ShopName\n",
       "0                    What things?            32      The Book Heaven\n",
       "1                   Allt om yrsel             4      The Book Heaven\n",
       "2            Too many reasons why            17      The Book Heaven\n",
       "3              The white elephant            12      The Book Heaven\n",
       "4                  Things we hide           257      The Book Heaven\n",
       "5                  Things we find             7      The Book Heaven\n",
       "6                 100 reasons why             3      The Book Heaven\n",
       "7                Red, white, blue             6  The Dusty Bookshelf\n",
       "8                    What things?             8  The Dusty Bookshelf\n",
       "9                   Allt om yrsel             6  The Dusty Bookshelf\n",
       "10           Too many reasons why            25  The Dusty Bookshelf\n",
       "11             The white elephant             6  The Dusty Bookshelf\n",
       "12                          Bajki             4  The Dusty Bookshelf\n",
       "13                 Things we hide            22  The Dusty Bookshelf\n",
       "14               Red, white, blue             8     Twice Sold Tales\n",
       "15                   What things?            65     Twice Sold Tales\n",
       "16           Too many reasons why             7     Twice Sold Tales\n",
       "17             The white elephant             6     Twice Sold Tales\n",
       "18                 Things we find             5     Twice Sold Tales\n",
       "19  The invisible life of Mr Gray             0     Twice Sold Tales"
      ]
     },
     "execution_count": 22,
     "metadata": {},
     "output_type": "execute_result"
    }
   ],
   "source": [
    "query = (\"SELECT b.BookTitle, i.BooksInStock, s.ShopName FROM Books b JOIN Inventory i ON b.BookId = i.BookId JOIN Shops s ON i.ShopId = s.ShopId\")\n",
    "\n",
    "df = pd.read_sql_query(text(query), con=engine)\n",
    "df"
   ]
  }
 ],
 "metadata": {
  "kernelspec": {
   "display_name": "Databases-Dorota-Bjoorn-XzNUwAKu",
   "language": "python",
   "name": "python3"
  },
  "language_info": {
   "codemirror_mode": {
    "name": "ipython",
    "version": 3
   },
   "file_extension": ".py",
   "mimetype": "text/x-python",
   "name": "python",
   "nbconvert_exporter": "python",
   "pygments_lexer": "ipython3",
   "version": "3.9.13"
  },
  "orig_nbformat": 4
 },
 "nbformat": 4,
 "nbformat_minor": 2
}
