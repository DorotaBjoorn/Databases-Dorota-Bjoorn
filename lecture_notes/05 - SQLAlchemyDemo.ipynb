{
 "cells": [
  {
   "attachments": {},
   "cell_type": "markdown",
   "metadata": {},
   "source": [
    "sqlalchemy.org - tutorial"
   ]
  },
  {
   "attachments": {},
   "cell_type": "markdown",
   "metadata": {},
   "source": [
    "# Establishing database connection\n",
    "\n",
    "* The Engine  - global object created once for particular database server\n",
    "* The URL string - how to connect (see connectionstrings.com)"
   ]
  },
  {
   "cell_type": "code",
   "execution_count": 7,
   "metadata": {},
   "outputs": [
    {
     "name": "stdout",
     "output_type": "stream",
     "text": [
      "Connecting to database using URL string:\n",
      "mssql+pyodbc://?odbc_connect=DRIVER=ODBC+Driver+17+for+SQL+Server;SERVER=localhost;DATABASE=everyloop;Trusted_Connection=yes \n",
      "\n",
      "Successfully connected to everyloop!\n"
     ]
    }
   ],
   "source": [
    "from sqlalchemy import create_engine\n",
    "from sqlalchemy.engine import URL #method to transform connection string into url string\n",
    "from urllib.parse import unquote\n",
    "\n",
    "# create connection string in correct format\n",
    "server_name   = \"localhost\"\n",
    "database_name = \"everyloop\"\n",
    "\n",
    "connection_string = f\"DRIVER=ODBC Driver 17 for SQL Server;SERVER={server_name};DATABASE={database_name};Trusted_Connection=yes\"\n",
    "url_string        = URL.create(\"mssql+pyodbc\", query={\"odbc_connect\": connection_string})\n",
    "\n",
    "print('Connecting to database using URL string:')\n",
    "unquoted_url = unquote(str(url_string))\n",
    "print(unquoted_url, '\\n')\n",
    "\n",
    "\n",
    "try:    \n",
    "    engine = create_engine(url_string) # create engine object\n",
    "    with engine.connect() as connection: # NOTE with-statement (Python manager form) connection object (is not used here)\n",
    "        print(f'Successfully connected to {database_name}!')\n",
    "except Exception as e:\n",
    "    print('Error while connecting to database:\\n')\n",
    "    print(e)"
   ]
  },
  {
   "attachments": {},
   "cell_type": "markdown",
   "metadata": {},
   "source": [
    "# Query database using raw SQL"
   ]
  },
  {
   "attachments": {},
   "cell_type": "markdown",
   "metadata": {},
   "source": [
    "text() - Simplest, old"
   ]
  },
  {
   "cell_type": "code",
   "execution_count": 11,
   "metadata": {},
   "outputs": [
    {
     "data": {
      "text/plain": [
       "sqlalchemy.sql.elements.TextClause"
      ]
     },
     "execution_count": 11,
     "metadata": {},
     "output_type": "execute_result"
    }
   ],
   "source": [
    "from sqlalchemy import text\n",
    "\n",
    "query = text(\"SELECT TOP 5 Id, FirstName, LastName, Email FROM USERS ORDER BY FirstName, LastName\") # NOTE text()\n",
    "type(query)"
   ]
  },
  {
   "attachments": {},
   "cell_type": "markdown",
   "metadata": {},
   "source": [
    "## The Result object\n",
    "connection.execute() SQLAlchemy submits query to te server which responds by sending beack the requested data as Result Object by connecttion.execute(). Best practice to consume this object witing the \"connect\" block. Below examples on how:"
   ]
  },
  {
   "attachments": {},
   "cell_type": "markdown",
   "metadata": {},
   "source": [
    "### Execute query and fetch all rows from result"
   ]
  },
  {
   "cell_type": "code",
   "execution_count": 12,
   "metadata": {},
   "outputs": [
    {
     "name": "stdout",
     "output_type": "stream",
     "text": [
      "[('741109-2058', 'Alexander', 'Dahl', 'alexander.dahl@telia.se'), ('530720-7675', 'Alvin', 'Lindholm', 'alvin.lindholm@gmail.com'), ('820624-3075', 'Anders', 'Hansson', 'anders.hansson@hotmail.com'), ('751123-9724', 'Anne', 'Åkerman', 'anne.akerman@hotmail.com'), ('620925-4245', 'Annette', 'Bergfalk', 'annette.bergfalk@telia.se')]\n"
     ]
    }
   ],
   "source": [
    "with engine.connect() as conn:\n",
    "    result = conn.execute(query) # syncron programming (code stops here waiting for responce from server and continues once resp is recieved)\n",
    "\n",
    "    print(result.fetchall()) # result is a Resul object which has a number of funcions such as fetchall()\n",
    "\n",
    "# asyncio library for async/await syntax (asyncron programmig)"
   ]
  },
  {
   "cell_type": "code",
   "execution_count": 13,
   "metadata": {},
   "outputs": [
    {
     "name": "stdout",
     "output_type": "stream",
     "text": [
      "<class 'sqlalchemy.engine.cursor.CursorResult'>\n",
      "<class 'list'>\n"
     ]
    }
   ],
   "source": [
    "print(type(result))\n",
    "print(type(result.fetchall()))"
   ]
  },
  {
   "attachments": {},
   "cell_type": "markdown",
   "metadata": {},
   "source": [
    "### Execute query and iterate through result"
   ]
  },
  {
   "cell_type": "code",
   "execution_count": 14,
   "metadata": {},
   "outputs": [
    {
     "name": "stdout",
     "output_type": "stream",
     "text": [
      "Alexander Dahl\n",
      "Alvin Lindholm\n",
      "Anders Hansson\n",
      "Anne Åkerman\n",
      "Annette Bergfalk\n"
     ]
    }
   ],
   "source": [
    "with engine.connect() as conn:\n",
    "    result = conn.execute(query)\n",
    "\n",
    "    for row in result:\n",
    "        print(f\"{row.FirstName} {row.LastName}\")"
   ]
  },
  {
   "attachments": {},
   "cell_type": "markdown",
   "metadata": {},
   "source": [
    "### Iterate column names and fields"
   ]
  },
  {
   "cell_type": "code",
   "execution_count": 18,
   "metadata": {},
   "outputs": [
    {
     "name": "stdout",
     "output_type": "stream",
     "text": [
      "ID                  FIRSTNAME           LASTNAME            EMAIL               \n",
      "741109-2058         Alexander           Dahl                alexander.dahl@telia.se\n",
      "530720-7675         Alvin               Lindholm            alvin.lindholm@gmail.com\n",
      "820624-3075         Anders              Hansson             anders.hansson@hotmail.com\n",
      "751123-9724         Anne                Åkerman             anne.akerman@hotmail.com\n",
      "620925-4245         Annette             Bergfalk            annette.bergfalk@telia.se\n"
     ]
    }
   ],
   "source": [
    "with engine.connect() as conn:\n",
    "    result = conn.execute(query)\n",
    "\n",
    "    for col_name in result.keys():\n",
    "        print(col_name.upper().ljust(20), end='')\n",
    "    print()\n",
    "\n",
    "    for row in result:\n",
    "        for field in row:\n",
    "            print(field.ljust(20), end='')\n",
    "        print()"
   ]
  },
  {
   "attachments": {},
   "cell_type": "markdown",
   "metadata": {},
   "source": [
    "### Create DataFrames from query result"
   ]
  },
  {
   "cell_type": "code",
   "execution_count": 20,
   "metadata": {},
   "outputs": [
    {
     "data": {
      "text/html": [
       "<div>\n",
       "<style scoped>\n",
       "    .dataframe tbody tr th:only-of-type {\n",
       "        vertical-align: middle;\n",
       "    }\n",
       "\n",
       "    .dataframe tbody tr th {\n",
       "        vertical-align: top;\n",
       "    }\n",
       "\n",
       "    .dataframe thead th {\n",
       "        text-align: right;\n",
       "    }\n",
       "</style>\n",
       "<table border=\"1\" class=\"dataframe\">\n",
       "  <thead>\n",
       "    <tr style=\"text-align: right;\">\n",
       "      <th></th>\n",
       "      <th>FirstName</th>\n",
       "      <th>LastName</th>\n",
       "      <th>Email</th>\n",
       "    </tr>\n",
       "    <tr>\n",
       "      <th>Id</th>\n",
       "      <th></th>\n",
       "      <th></th>\n",
       "      <th></th>\n",
       "    </tr>\n",
       "  </thead>\n",
       "  <tbody>\n",
       "    <tr>\n",
       "      <th>741109-2058</th>\n",
       "      <td>Alexander</td>\n",
       "      <td>Dahl</td>\n",
       "      <td>alexander.dahl@telia.se</td>\n",
       "    </tr>\n",
       "    <tr>\n",
       "      <th>530720-7675</th>\n",
       "      <td>Alvin</td>\n",
       "      <td>Lindholm</td>\n",
       "      <td>alvin.lindholm@gmail.com</td>\n",
       "    </tr>\n",
       "    <tr>\n",
       "      <th>820624-3075</th>\n",
       "      <td>Anders</td>\n",
       "      <td>Hansson</td>\n",
       "      <td>anders.hansson@hotmail.com</td>\n",
       "    </tr>\n",
       "    <tr>\n",
       "      <th>751123-9724</th>\n",
       "      <td>Anne</td>\n",
       "      <td>Åkerman</td>\n",
       "      <td>anne.akerman@hotmail.com</td>\n",
       "    </tr>\n",
       "    <tr>\n",
       "      <th>620925-4245</th>\n",
       "      <td>Annette</td>\n",
       "      <td>Bergfalk</td>\n",
       "      <td>annette.bergfalk@telia.se</td>\n",
       "    </tr>\n",
       "  </tbody>\n",
       "</table>\n",
       "</div>"
      ],
      "text/plain": [
       "             FirstName  LastName                       Email\n",
       "Id                                                          \n",
       "741109-2058  Alexander      Dahl     alexander.dahl@telia.se\n",
       "530720-7675      Alvin  Lindholm    alvin.lindholm@gmail.com\n",
       "820624-3075     Anders   Hansson  anders.hansson@hotmail.com\n",
       "751123-9724       Anne   Åkerman    anne.akerman@hotmail.com\n",
       "620925-4245    Annette  Bergfalk   annette.bergfalk@telia.se"
      ]
     },
     "execution_count": 20,
     "metadata": {},
     "output_type": "execute_result"
    }
   ],
   "source": [
    "import pandas as pd\n",
    "\n",
    "df = pd.read_sql_query(query, con=engine, index_col='Id')\n",
    "df"
   ]
  },
  {
   "attachments": {},
   "cell_type": "markdown",
   "metadata": {},
   "source": [
    "### Example search application (unsafe implmentation) - SQL injection\n",
    "Type commands via input window to make changes in databases. For example:\n",
    "* ';--'                                                                 get all data\n",
    "* ';drop table users3; --'                                              drop data\n",
    "* ' and 1=0 union select firstname, lastname, password from users; --'  get data (and 1 = 0 makes sure will get empty result; union own query; -- comments away rest)\n",
    "* ' and 1=0 union select 1, 2, 3; --'                                   write in own data in database\n",
    "\n",
    "To avoid:\n",
    "* limit rights for users who log on\n",
    "* never allow user input in any part of our queries so no concatination in queries\n",
    "    * query = \"select * from users where username = '\" + username_input + \"';\"\n",
    "* user data in queries should always be parameterized so recieve SQL statment and user data separately (static statement) \n",
    "    * query = \"select * from users where username = @username_input\"\n",
    "* "
   ]
  },
  {
   "attachments": {},
   "cell_type": "markdown",
   "metadata": {},
   "source": [
    "#### Bound parameters in SQLAlchemy - parametirized query\n",
    "text() allows to bind parameters using the named colon format (:param).\n",
    "Bound parameter *:first_name* in the query and the pass in the value of the python varable *name* when eqecuting query.\n",
    "* *T-SQL uses @param, while SQLAlchemy uses :param*"
   ]
  },
  {
   "cell_type": "code",
   "execution_count": 30,
   "metadata": {},
   "outputs": [
    {
     "name": "stdout",
     "output_type": "stream",
     "text": [
      "[]\n"
     ]
    }
   ],
   "source": [
    "name = \"';--\"\n",
    "\n",
    "parameterized_query = text(\"Select * from Users where FirstName like '%' + :first_name + '%'\")  # hard coded query indicating there is a parameter :first_name to be expected\n",
    "\n",
    "with engine.connect() as conn:\n",
    "    result = conn.execute(parameterized_query, {\"first_name\": name}) # defining what :first_name is\n",
    "    print(result.fetchall())"
   ]
  },
  {
   "cell_type": "code",
   "execution_count": 27,
   "metadata": {},
   "outputs": [
    {
     "name": "stdout",
     "output_type": "stream",
     "text": [
      "Search string: ' and 1=0 union select firstname, lastname, password from users; --'\n",
      "\n",
      "IATA    Airport name                                      Location\n",
      "AlexanderDahl                                              425e618ba6834cdff3e5235a648d7a49\n",
      "Alvin   Lindholm                                          2194506fc6ef7a2048f03a0f4ee7c641\n",
      "Anders  Hansson                                           f82e0b0c45c7babe84db897066335590\n",
      "Anne    Åkerman                                           ebf12cb74e96e67e63783d93c534ef27\n",
      "Annette Bergfalk                                          2c3339f366a420eb04c6b6c21b7746bf\n",
      "Anton   Ragnvaldsson                                      bd50f363001990ee1fe5d798702b1d5b\n",
      "Arthur  Björk                                             5b2b2d2bd0cd2c7a7019d2c2a7c6307a\n",
      "Beata   Möller                                            85267d349a5e647ff0a9edcb5ffd1e02\n",
      "Bengt   Svenson                                           06af2e43797e629c5a4c7bfe58a105c3\n",
      "Bjoern  Waltersson                                        7e9a21b78e3723bde67627aa095f98fd\n",
      "CarolineEngström                                          6a5889bb0190d0211a991f47bb19a777\n",
      "CatharinaKnutson                                           c5aa65949d20f6b20e1a922c13d974e7\n",
      "CharlotteSörensen                                          0bc22e1c47f26addd1907b4931e507b1\n",
      "Ebbe    Westerberg                                        436c26abd464041efd354bc550f76482\n",
      "Edvin   Alfsson                                           9d4e5ea4418508b6a23445e3089f4898\n",
      "ElisabethVång                                              ecd058faafa18f55f81d730b142f8fd3\n",
      "Felicia Bertilsson                                        03cafe742c11ddc94bff251c842b7f67\n",
      "Felix   Berglund                                          3e016029eeb9a92852a656f33fbf1dc6\n",
      "Frida   Ericson                                           7a981e17886344fb031e3735a7284b8c\n",
      "Gunnel  Mikaelsson                                        07c09ba3a403585b6c93f73d03983079\n",
      "Gustav  Berg                                              bbc595e205a865a6afd9a8584f319f3b\n",
      "Göran   Patriksson                                        fc14f949c1baf821079b6e2b9b22f553\n",
      "HenriettaBlomgren                                          0dd81a42714c6fe8bd670804643b458d\n",
      "Hjördis Wang                                              bb31bb1b1b3b1900fa619d1a7e3ebb92\n",
      "Jannike Claesson                                          3e53ae683f8e8c84221db763b30fe907\n",
      "Johanna Lennartsson                                       422cf6c6f212dde0fa96c532de240104\n",
      "Kaj     Ingesson                                          7a0c99ef914f596a9d745df32a9c84dd\n",
      "Kettil  Bergfalk                                          90918c5b8c17f80e32d5b155a7bf6197\n",
      "Kåre    Lundberg                                          e26ebd564a492f55c8ceed4d97c5fedb\n",
      "Lennart Öman                                              744878fbdd26871c594f57ca61733e09\n",
      "Malin   Ek                                                0866b954204f6576dcf4c59af968f2eb\n",
      "Milla   Albertsson                                        3047ee053d45323e65192012176a2a1c\n",
      "Mona    Solberg                                           c1de2111b16e6b21b794451fe54ef86f\n",
      "My      Mårdh                                             3587f76616df673c64f36e1d8babc2e7\n",
      "Peter   Ljungstrand                                       9323f21f2098b7288267c785458548b2\n",
      "Petter  Möller                                            9ef248df74556f4768271660f5ef5f7b\n",
      "Rakel   Albertsson                                        df132656c11853d6118fe9d36eaba5e1\n",
      "Randi   Eriksson                                          5128811422870279d063413608e0bc4b\n",
      "Sigfrid Hall                                              20bb93fcb37c7ec9be51cf792d5c9609\n",
      "Sigfrid Petersson                                         1bf3fa859c48493f5f2606ccaaa0f20e\n",
      "Sigge   Pethrus                                           67b48cc32ab9f04633bd50656a4a26fc\n",
      "Sigrid  Pettersson                                        0f70d19c41c092696766a57abe1b4266\n",
      "Solvig  Borg                                              d6cb41a908909feead800375f0e96b04\n",
      "Svea    Solberg                                           47551f847eb553f2600d124fdfd03730\n",
      "Truls   Matsson                                           195d221c982e47eb58347e5d06ce3180\n",
      "Ulla    Alvarsson                                         4fec58181bb416f09f8ef0f69433584f\n",
      "ValdemarGrahn                                             6c01156a337cb1e4748f3567bdeff63c\n",
      "Viggo   Sorenson                                          741adf496ee8c2d3e8c864e9567211af\n",
      "VilhelminaMatsson                                           aa426df08f79c27a95d70a496a69759c\n",
      "VirginiaLjungman                                          72cd11da65daac3c9e75ee19f93eb0dd\n",
      "\n",
      "select top 10\n",
      "    IATA, \n",
      "    [Airport name] as 'name', \n",
      "    [Location served] as 'location' \n",
      "from \n",
      "    airports \n",
      "where \n",
      "    [Location served] like '%' and 1=0 union select firstname, lastname, password from users; --'%'\n"
     ]
    }
   ],
   "source": [
    "search_string = input(\"Search airports: \")\n",
    "\n",
    "print(f\"Search string: {search_string}\\n\")\n",
    "\n",
    "# query as f-string\n",
    "unsafe_query = f\"\"\"\n",
    "select top 10\n",
    "    IATA, \n",
    "    [Airport name] as 'name', \n",
    "    [Location served] as 'location' \n",
    "from \n",
    "    airports \n",
    "where \n",
    "    [Location served] like '%{search_string}%'\"\"\"\n",
    "\n",
    "# sending request and getting Result object\n",
    "with engine.connect() as conn:    \n",
    "    result = conn.execute(text(unsafe_query)) # NOTE text()\n",
    "\n",
    "    print(f\"{'IATA'.ljust(8)}{'Airport name'.ljust(50)}{'Location'}\")\n",
    "    \n",
    "    for airport in result:\n",
    "        print(f\"{str(airport.IATA).ljust(8)}{str(airport.name).ljust(50)}{airport.location}\")\n",
    "\n",
    "    print(unsafe_query)"
   ]
  },
  {
   "attachments": {},
   "cell_type": "markdown",
   "metadata": {},
   "source": []
  }
 ],
 "metadata": {
  "kernelspec": {
   "display_name": "Databases-Dorota-Bjoorn-XzNUwAKu",
   "language": "python",
   "name": "python3"
  },
  "language_info": {
   "codemirror_mode": {
    "name": "ipython",
    "version": 3
   },
   "file_extension": ".py",
   "mimetype": "text/x-python",
   "name": "python",
   "nbconvert_exporter": "python",
   "pygments_lexer": "ipython3",
   "version": "3.9.13"
  },
  "orig_nbformat": 4
 },
 "nbformat": 4,
 "nbformat_minor": 2
}
