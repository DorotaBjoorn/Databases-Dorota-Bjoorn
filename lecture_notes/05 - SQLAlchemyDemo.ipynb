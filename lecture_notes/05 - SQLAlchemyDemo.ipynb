{
 "cells": [
  {
   "attachments": {},
   "cell_type": "markdown",
   "metadata": {},
   "source": [
    "sqlalchemy.org - tutorial"
   ]
  },
  {
   "attachments": {},
   "cell_type": "markdown",
   "metadata": {},
   "source": [
    "# Establishing database connection\n",
    "\n",
    "* The Engine  - global object created once for particular database server\n",
    "* The URL string - how to connect (see connectionstrings.com)"
   ]
  },
  {
   "cell_type": "code",
   "execution_count": 12,
   "metadata": {},
   "outputs": [
    {
     "name": "stdout",
     "output_type": "stream",
     "text": [
      "Connecting to database using URL string:\n",
      "mssql+pyodbc://?odbc_connect=DRIVER=ODBC+Driver+17+for+SQL+Server;SERVER=localhost;DATABASE=everyloop;Trusted_Connection=yes \n",
      "\n",
      "Successfully connected to everyloop!\n"
     ]
    }
   ],
   "source": [
    "from sqlalchemy import create_engine\n",
    "from sqlalchemy.engine import URL #method to transform connection string into url string\n",
    "from urllib.parse import unquote\n",
    "\n",
    "# create connection string in correct format\n",
    "server_name   = \"localhost\"\n",
    "database_name = \"everyloop\"\n",
    "\n",
    "connection_string = f\"DRIVER=ODBC Driver 17 for SQL Server;SERVER={server_name};DATABASE={database_name};Trusted_Connection=yes\"\n",
    "url_string        = URL.create(\"mssql+pyodbc\", query={\"odbc_connect\": connection_string})\n",
    "\n",
    "print('Connecting to database using URL string:')\n",
    "unquoted_url = unquote(str(url_string))\n",
    "print(unquoted_url, '\\n')\n",
    "\n",
    "\n",
    "try:    \n",
    "    engine = create_engine(url_string) # create engine object\n",
    "    with engine.connect() as connection: # NOTE with-statement (Python manager form) connection object (is not used here)\n",
    "        print(f'Successfully connected to {database_name}!')\n",
    "except Exception as e:\n",
    "    print('Error while connecting to database:\\n')\n",
    "    print(e)"
   ]
  },
  {
   "attachments": {},
   "cell_type": "markdown",
   "metadata": {},
   "source": [
    "# Query database using raw SQL"
   ]
  },
  {
   "attachments": {},
   "cell_type": "markdown",
   "metadata": {},
   "source": [
    "text() - Simplest, old"
   ]
  },
  {
   "cell_type": "code",
   "execution_count": 14,
   "metadata": {},
   "outputs": [
    {
     "data": {
      "text/plain": [
       "sqlalchemy.sql.elements.TextClause"
      ]
     },
     "execution_count": 14,
     "metadata": {},
     "output_type": "execute_result"
    }
   ],
   "source": [
    "from sqlalchemy import text\n",
    "\n",
    "query = text(\"SELECT TOP 5 Id, FirstName, LastName, Email FROM USERS ORDER BY FirstName, LastName\") # NOTE text()\n",
    "type(query)"
   ]
  },
  {
   "attachments": {},
   "cell_type": "markdown",
   "metadata": {},
   "source": [
    "## The Result object\n",
    "connection.execute() SQLAlchemy submits query to te server which responds by sending beack the requested data as Result Object by connecttion.execute(). Best practice to consume this object witing the \"connect\" block. Below examples on how:"
   ]
  },
  {
   "attachments": {},
   "cell_type": "markdown",
   "metadata": {},
   "source": [
    "### Execute query and fetch all rows from result"
   ]
  },
  {
   "cell_type": "code",
   "execution_count": 15,
   "metadata": {},
   "outputs": [
    {
     "name": "stdout",
     "output_type": "stream",
     "text": [
      "[('741109-2058', 'Alexander', 'Dahl', 'alexander.dahl@telia.se'), ('530720-7675', 'Alvin', 'Lindholm', 'alvin.lindholm@gmail.com'), ('820624-3075', 'Anders', 'Hansson', 'anders.hansson@hotmail.com'), ('751123-9724', 'Anne', 'Åkerman', 'anne.akerman@hotmail.com'), ('620925-4245', 'Annette', 'Bergfalk', 'annette.bergfalk@telia.se')]\n"
     ]
    }
   ],
   "source": [
    "with engine.connect() as conn:\n",
    "    result = conn.execute(query) # syncron programming (code stops here waiting for responce from server and continues once resp is recieved)\n",
    "\n",
    "    print(result.fetchall()) # result is a Resul object which has a number of funcions such as fetchall()\n",
    "\n",
    "# asyncio library for async/await syntax (asyncron programmig)"
   ]
  },
  {
   "cell_type": "code",
   "execution_count": 16,
   "metadata": {},
   "outputs": [
    {
     "name": "stdout",
     "output_type": "stream",
     "text": [
      "<class 'sqlalchemy.engine.cursor.CursorResult'>\n",
      "<class 'list'>\n"
     ]
    }
   ],
   "source": [
    "print(type(result))\n",
    "print(type(result.fetchall()))"
   ]
  },
  {
   "attachments": {},
   "cell_type": "markdown",
   "metadata": {},
   "source": [
    "### Execute query and iterate through result"
   ]
  },
  {
   "cell_type": "code",
   "execution_count": 7,
   "metadata": {},
   "outputs": [
    {
     "name": "stdout",
     "output_type": "stream",
     "text": [
      "Alexander Dahl\n",
      "Alvin Lindholm\n",
      "Anders Hansson\n",
      "Anne Åkerman\n",
      "Annette Bergfalk\n"
     ]
    }
   ],
   "source": [
    "with engine.connect() as conn:\n",
    "    result = conn.execute(query)\n",
    "\n",
    "    for row in result:\n",
    "        print(f\"{row.FirstName} {row.LastName}\")"
   ]
  },
  {
   "attachments": {},
   "cell_type": "markdown",
   "metadata": {},
   "source": [
    "### Iterate column names and fields"
   ]
  },
  {
   "cell_type": "code",
   "execution_count": 8,
   "metadata": {},
   "outputs": [
    {
     "name": "stdout",
     "output_type": "stream",
     "text": [
      "ID                  FIRSTNAME           LASTNAME            EMAIL               \n",
      "741109-2058         Alexander           Dahl                alexander.dahl@telia.se\n",
      "530720-7675         Alvin               Lindholm            alvin.lindholm@gmail.com\n",
      "820624-3075         Anders              Hansson             anders.hansson@hotmail.com\n",
      "751123-9724         Anne                Åkerman             anne.akerman@hotmail.com\n",
      "620925-4245         Annette             Bergfalk            annette.bergfalk@telia.se\n"
     ]
    }
   ],
   "source": [
    "with engine.connect() as conn:\n",
    "    result = conn.execute(query)\n",
    "\n",
    "    for col_name in result.keys():\n",
    "        print(col_name.upper().ljust(20), end='')\n",
    "    print()\n",
    "\n",
    "    for row in result:\n",
    "        for field in row:\n",
    "            print(field.ljust(20), end='')\n",
    "        print()"
   ]
  },
  {
   "attachments": {},
   "cell_type": "markdown",
   "metadata": {},
   "source": [
    "### Create DataFrames from query result"
   ]
  },
  {
   "cell_type": "code",
   "execution_count": 17,
   "metadata": {},
   "outputs": [
    {
     "data": {
      "text/html": [
       "<div>\n",
       "<style scoped>\n",
       "    .dataframe tbody tr th:only-of-type {\n",
       "        vertical-align: middle;\n",
       "    }\n",
       "\n",
       "    .dataframe tbody tr th {\n",
       "        vertical-align: top;\n",
       "    }\n",
       "\n",
       "    .dataframe thead th {\n",
       "        text-align: right;\n",
       "    }\n",
       "</style>\n",
       "<table border=\"1\" class=\"dataframe\">\n",
       "  <thead>\n",
       "    <tr style=\"text-align: right;\">\n",
       "      <th></th>\n",
       "      <th>FirstName</th>\n",
       "      <th>LastName</th>\n",
       "      <th>Email</th>\n",
       "    </tr>\n",
       "    <tr>\n",
       "      <th>Id</th>\n",
       "      <th></th>\n",
       "      <th></th>\n",
       "      <th></th>\n",
       "    </tr>\n",
       "  </thead>\n",
       "  <tbody>\n",
       "    <tr>\n",
       "      <th>741109-2058</th>\n",
       "      <td>Alexander</td>\n",
       "      <td>Dahl</td>\n",
       "      <td>alexander.dahl@telia.se</td>\n",
       "    </tr>\n",
       "    <tr>\n",
       "      <th>530720-7675</th>\n",
       "      <td>Alvin</td>\n",
       "      <td>Lindholm</td>\n",
       "      <td>alvin.lindholm@gmail.com</td>\n",
       "    </tr>\n",
       "    <tr>\n",
       "      <th>820624-3075</th>\n",
       "      <td>Anders</td>\n",
       "      <td>Hansson</td>\n",
       "      <td>anders.hansson@hotmail.com</td>\n",
       "    </tr>\n",
       "    <tr>\n",
       "      <th>751123-9724</th>\n",
       "      <td>Anne</td>\n",
       "      <td>Åkerman</td>\n",
       "      <td>anne.akerman@hotmail.com</td>\n",
       "    </tr>\n",
       "    <tr>\n",
       "      <th>620925-4245</th>\n",
       "      <td>Annette</td>\n",
       "      <td>Bergfalk</td>\n",
       "      <td>annette.bergfalk@telia.se</td>\n",
       "    </tr>\n",
       "  </tbody>\n",
       "</table>\n",
       "</div>"
      ],
      "text/plain": [
       "             FirstName  LastName                       Email\n",
       "Id                                                          \n",
       "741109-2058  Alexander      Dahl     alexander.dahl@telia.se\n",
       "530720-7675      Alvin  Lindholm    alvin.lindholm@gmail.com\n",
       "820624-3075     Anders   Hansson  anders.hansson@hotmail.com\n",
       "751123-9724       Anne   Åkerman    anne.akerman@hotmail.com\n",
       "620925-4245    Annette  Bergfalk   annette.bergfalk@telia.se"
      ]
     },
     "execution_count": 17,
     "metadata": {},
     "output_type": "execute_result"
    },
    {
     "ename": "",
     "evalue": "",
     "output_type": "error",
     "traceback": [
      "\u001b[1;31mThe Kernel crashed while executing code in the the current cell or a previous cell. Please review the code in the cell(s) to identify a possible cause of the failure. Click <a href='https://aka.ms/vscodeJupyterKernelCrash'>here</a> for more info. View Jupyter <a href='command:jupyter.viewOutput'>log</a> for further details."
     ]
    }
   ],
   "source": [
    "import pandas as pd\n",
    "\n",
    "df = pd.read_sql_query(query, con=engine, index_col='Id')\n",
    "df"
   ]
  },
  {
   "attachments": {},
   "cell_type": "markdown",
   "metadata": {},
   "source": [
    "### Example search application (unsafe implmentation) - SQL injection\n",
    "Type commands via input window to make changes in databases. For example:\n",
    "* ';--'                                                                 get all data\n",
    "* ';drop table users3; --'                                              drop data\n",
    "* ' and 1=0 union select firstname, lastname, password from users; --'  get data (and 1 = 0 makes sure will get empty result; union own query; -- comments away rest)\n",
    "* ' and 1=0 union select 1, 2, 3; --'                                   write in own data in database\n",
    "\n",
    "To avoid:\n",
    "* limit rights for users who log on\n",
    "* never allow user input in any part of our queries so no concatination in queries\n",
    "    * query = \"select * from users where username = '\" + username_input + \"';\"\n",
    "* user data in queries should always be parameterized so recieve SQL statment and user data separately (static statement) \n",
    "    * query = \"select * from users where username = @username_input\"\n",
    "* "
   ]
  },
  {
   "attachments": {},
   "cell_type": "markdown",
   "metadata": {},
   "source": [
    "#### Bound parameters in SQLAlchemy - parametirized query\n",
    "text() allows to bind parameters using the named colon format (:param).\n",
    "Bound parameter *:first_name* in the query and the pass in the value of the python varable *name* when eqecuting query.\n",
    "* *T-SQL uses @param, while SQLAlchemy uses :param*"
   ]
  },
  {
   "cell_type": "code",
   "execution_count": 10,
   "metadata": {},
   "outputs": [
    {
     "name": "stdout",
     "output_type": "stream",
     "text": [
      "[]\n"
     ]
    }
   ],
   "source": [
    "name = \"';--\"\n",
    "\n",
    "parameterized_query = text(\"Select * from Users where FirstName like '%' + :first_name + '%'\")  # hard coded query indicating there is a parameter :first_name to be expected\n",
    "\n",
    "with engine.connect() as conn:\n",
    "    result = conn.execute(parameterized_query, {\"first_name\": name}) # defining what :first_name is\n",
    "    print(result.fetchall())"
   ]
  },
  {
   "cell_type": "code",
   "execution_count": 11,
   "metadata": {},
   "outputs": [
    {
     "name": "stdout",
     "output_type": "stream",
     "text": [
      "Search string: anna\n",
      "\n",
      "IATA    Airport name                                      Location\n",
      "AAE     Rabah Bitat Airport (Les Salines Airport)         Annaba, Algeria\n",
      "ANP     Lee Airport                                       Annapolis, Maryland, United States\n",
      "AOB     Annanberg Airport                                 Annanberg, Papua New Guinea\n",
      "CJF     Coondewanna Airport                               Coondewanna, Western Australia, Australia\n",
      "CNN     Kannur International Airport                      kannur, (Cannanore) Kerala, India\n",
      "DNP     Tribhuvannagar Airport (Dang Airport)             Tribhuwannagar, Nepal\n",
      "MNH     Al-Musannah Airport[1]                            Al-Musannah, Oman\n",
      "NAI     Annai Airport                                     Annai, Guyana\n",
      "SAV     Savannah/Hilton Head International Airport        Savannah, Georgia, United States\n",
      "SVN     Hunter Army Airfield                              Savannah, Georgia, United States\n",
      "\n",
      "select top 10\n",
      "    IATA, \n",
      "    [Airport name] as 'name', \n",
      "    [Location served] as 'location' \n",
      "from \n",
      "    airports \n",
      "where \n",
      "    [Location served] like '%anna%'\n"
     ]
    }
   ],
   "source": [
    "search_string = input(\"Search airports: \")\n",
    "\n",
    "print(f\"Search string: {search_string}\\n\")\n",
    "\n",
    "# query as f-string\n",
    "unsafe_query = f\"\"\"\n",
    "select top 10\n",
    "    IATA, \n",
    "    [Airport name] as 'name', \n",
    "    [Location served] as 'location' \n",
    "from \n",
    "    airports \n",
    "where \n",
    "    [Location served] like '%{search_string}%'\"\"\"\n",
    "\n",
    "# sending request and getting Result object\n",
    "with engine.connect() as conn:    \n",
    "    result = conn.execute(text(unsafe_query)) # NOTE text()\n",
    "\n",
    "    print(f\"{'IATA'.ljust(8)}{'Airport name'.ljust(50)}{'Location'}\")\n",
    "    \n",
    "    for airport in result:\n",
    "        print(f\"{str(airport.IATA).ljust(8)}{str(airport.name).ljust(50)}{airport.location}\")\n",
    "\n",
    "    print(unsafe_query)"
   ]
  },
  {
   "attachments": {},
   "cell_type": "markdown",
   "metadata": {},
   "source": []
  }
 ],
 "metadata": {
  "kernelspec": {
   "display_name": "Databases-Dorota-Bjoorn-XzNUwAKu",
   "language": "python",
   "name": "python3"
  },
  "language_info": {
   "codemirror_mode": {
    "name": "ipython",
    "version": 3
   },
   "file_extension": ".py",
   "mimetype": "text/x-python",
   "name": "python",
   "nbconvert_exporter": "python",
   "pygments_lexer": "ipython3",
   "version": "3.9.13"
  },
  "orig_nbformat": 4
 },
 "nbformat": 4,
 "nbformat_minor": 2
}
